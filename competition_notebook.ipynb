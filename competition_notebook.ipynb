{
 "cells": [
  {
   "cell_type": "code",
   "execution_count": 1,
   "metadata": {},
   "outputs": [],
   "source": [
    "from sklearn.model_selection import train_test_split\n",
    "import numpy as np\n",
    "import pandas as pd\n",
    "from catboost import CatBoostClassifier, Pool, metrics, cv\n",
    "from sklearn.metrics import accuracy_score, make_scorer, roc_auc_score\n",
    "\n",
    "train_df = pd.read_csv(\n",
    "    \"./data/train.csv\")\n",
    "test_df = pd.read_csv(\n",
    "    \"./data/test.csv\", index_col=[0])\n",
    "null_value_stats = train_df.isnull().sum(axis=0)\n",
    "null_value_stats[null_value_stats != 0]\n",
    "train_df.fillna(-999, inplace=True)\n",
    "test_df.fillna(-999, inplace=True)\n",
    "\n",
    "X = train_df.drop('Label', axis=1)\n",
    "y = train_df.Label\n",
    "\n",
    "\n",
    "X_train, X_validation, y_train, y_validation = train_test_split(\n",
    "    X, y, train_size=0.75, random_state=42)\n",
    "\n",
    "X_test = test_df"
   ]
  },
  {
   "cell_type": "code",
   "execution_count": null,
   "metadata": {},
   "outputs": [],
   "source": [
    "import hyperopt\n",
    "from numpy.random import default_rng\n",
    "from hyperopt import hp\n",
    "\n",
    "def hyperopt_objective(params):\n",
    "    model = CatBoostClassifier(\n",
    "        **params,\n",
    "    )\n",
    "    \n",
    "    cv_data = cv(\n",
    "        Pool(X, y),\n",
    "        model.get_params(),\n",
    "        logging_level='Silent',\n",
    "    )\n",
    "    best_accuracy = np.max(cv_data['test-PRAUC-mean'])\n",
    "    \n",
    "    return 1 - best_accuracy # as hyperopt minimises\n",
    "\n",
    "params = {\n",
    "    'iterations': 10000,\n",
    "    'l2_leaf_reg': hp.loguniform('l2_leaf_reg', np.log(1e-5), np.log(10)),\n",
    "    'model_size_reg': hp.loguniform('model_size_reg', np.log(1e-5), np.log(10)),\n",
    "    'depth': hp.quniform('depth', 4, 10, 1),  # Tree depth (integer)\n",
    "    'learning_rate': hp.loguniform('learning_rate', np.log(0.005), np.log(0.2)),\n",
    "    'eval_metric': \"PRAUC\",\n",
    "    'loss_function': metrics.CrossEntropy(),\n",
    "    'random_seed': 42,\n",
    "    'logging_level': 'Silent',\n",
    "    'use_best_model': True,\n",
    "    'od_type': 'Iter',\n",
    "    'od_wait': 40,\n",
    "    \"task_type\":\"GPU\",\n",
    "\n",
    "}\n",
    "\n",
    "trials = hyperopt.Trials()\n",
    "\n",
    "best = hyperopt.fmin(\n",
    "    hyperopt_objective,\n",
    "    space=params,\n",
    "    algo=hyperopt.tpe.suggest,\n",
    "    max_evals=50,\n",
    "    trials=trials,\n",
    "    rstate=default_rng(123)\n",
    ")"
   ]
  },
  {
   "cell_type": "code",
   "execution_count": 4,
   "metadata": {},
   "outputs": [
    {
     "name": "stdout",
     "output_type": "stream",
     "text": [
      "{'depth': 7.0, 'l2_leaf_reg': 1.0884939894237269, 'learning_rate': 0.0731510479644652, 'model_size_reg': 0.011454331570092468}\n"
     ]
    }
   ],
   "source": [
    "print(best)"
   ]
  },
  {
   "cell_type": "code",
   "execution_count": null,
   "metadata": {},
   "outputs": [],
   "source": [
    "params.update(best)\n",
    "params['od_wait'] = 1000\n",
    "best_model = CatBoostClassifier(\n",
    "    **params,  custom_metric=[\n",
    "        \"AUC\", \"Accuracy\", \"Logloss\", \"NormalizedGini\", \"BalancedAccuracy\", \"CrossEntropy\"]\n",
    ")\n",
    "print(best_model.get_params())\n",
    "cv_data = cv(Pool(X, y), best_model.get_params(), plot=True)\n",
    "\n",
    "train_pool = Pool(X_train, y_train)\n",
    "validate_pool = Pool(X_validation, y_validation)\n",
    "best_model.fit(train_pool, eval_set=validate_pool)\n",
    "print('Best model validation accuracy: {:.4}'.format(\n",
    "    roc_auc_score(y_validation, best_model.predict_proba(\n",
    "        X_validation)[:, 1], max_fpr=0.01)\n",
    "))  \n",
    "\n",
    "#stack and document, plot,...then see the results. "
   ]
  },
  {
   "cell_type": "code",
   "execution_count": 17,
   "metadata": {},
   "outputs": [],
   "source": [
    "best_model.save_model('catboost_model_best.dump')\n",
    "pred_test = best_model.predict_proba(test_df.to_numpy())[:, 1]\n",
    "submission = pd.DataFrame({'id': test_df.index, 'Label': pred_test})\n",
    "submission.set_index('id').to_csv(\"submission-catboost.csv\")"
   ]
  },
  {
   "cell_type": "code",
   "execution_count": 26,
   "metadata": {},
   "outputs": [
    {
     "name": "stdout",
     "output_type": "stream",
     "text": [
      "{'iterations': 10000, 'l2_leaf_reg': 1.0884939894237269, 'model_size_reg': 0.011454331570092468, 'depth': 7.0, 'learning_rate': 0.0731510479644652, 'eval_metric': 'PRAUC', 'loss_function': CrossEntropy(use_weights=True [mandatory=False]), 'random_seed': 42, 'logging_level': 'Silent', 'use_best_model': True, 'od_type': 'Iter', 'od_wait': 1000, 'task_type': 'GPU'}\n"
     ]
    }
   ],
   "source": [
    "#submit the trian stuff. \n",
    "best_model.load_model('catboost_model_best.dump')\n",
    "pred_test = best_model.predict_proba(X)[:, 1]\n",
    "submission = pd.DataFrame({'id': train_df.index, 'Label': pred_test})\n",
    "submission.set_index('id').to_csv(\"train_submission.csv\")"
   ]
  },
  {
   "cell_type": "code",
   "execution_count": null,
   "metadata": {},
   "outputs": [],
   "source": [
    "#ensemble over many seeds. \n",
    "\n",
    "models = []\n",
    "for i in range(30):\n",
    "    params['random_seed'] = i\n",
    "    X_train_final, X_validation_final, y_train_final, y_validation_final = train_test_split(\n",
    "        X, y, train_size=0.90, random_state=i)\n",
    "    model = CatBoostClassifier(\n",
    "        **params\n",
    "    )\n",
    "    train_pool_final = Pool(X_train_final, y_train_final)\n",
    "    validation_pool_final = Pool(X_validation_final, y_validation_final)\n",
    "    model.fit(train_pool_final, eval_set=validation_pool_final)\n",
    "    score = roc_auc_score(y_validation_final, model.predict_proba(\n",
    "            X_validation_final)[:, 1], max_fpr=0.01)\n",
    "    \n",
    "    print('Best model validation accuracy: {:.4}'.format(\n",
    "        score\n",
    "        ))\n",
    "    models.append((score, i, model))\n",
    "models = sorted(models, key=lambda x: x[0], reverse=True)\n",
    "    "
   ]
  },
  {
   "cell_type": "code",
   "execution_count": 49,
   "metadata": {},
   "outputs": [],
   "source": [
    "model_preds = []\n",
    "#try ensemble the top 5, then top3, then top 2. \n",
    "for score, seed, model in models[3:]:\n",
    "    pred = model.predict_proba(test_df.to_numpy())[:, 1]\n",
    "    model_preds.append(pred)\n",
    "model_preds = np.array(model_preds)\n",
    "avg = np.mean(model_preds, axis=0)\n",
    "submission = pd.DataFrame({'id': test_df.index, 'Label': avg})\n",
    "submission.set_index('id').to_csv(\"submission-catboost-ensemble_3.csv\")"
   ]
  }
 ],
 "metadata": {
  "kernelspec": {
   "display_name": "hw",
   "language": "python",
   "name": "python3"
  },
  "language_info": {
   "codemirror_mode": {
    "name": "ipython",
    "version": 3
   },
   "file_extension": ".py",
   "mimetype": "text/x-python",
   "name": "python",
   "nbconvert_exporter": "python",
   "pygments_lexer": "ipython3",
   "version": "3.10.14"
  }
 },
 "nbformat": 4,
 "nbformat_minor": 2
}
